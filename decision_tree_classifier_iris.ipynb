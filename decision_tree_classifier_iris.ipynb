{
 "cells": [
  {
   "cell_type": "code",
   "execution_count": 11,
   "id": "2cd89059-8c91-4ac6-a021-d2a46373d133",
   "metadata": {},
   "outputs": [],
   "source": [
    "import numpy as np\n",
    "import pandas as pd\n",
    "import matplotlib.pyplot as plt\n",
    "import seaborn as sns\n",
    "from sklearn import datasets\n",
    "\n",
    "from sklearn.tree import DecisionTreeClassifier\n",
    "from sklearn import metrics\n",
    "%matplotlib inline"
   ]
  },
  {
   "cell_type": "code",
   "execution_count": 2,
   "id": "c876b330-1b97-482e-af02-a41e452c2390",
   "metadata": {},
   "outputs": [],
   "source": [
    "import warnings\n",
    "warnings.filterwarnings('ignore')"
   ]
  },
  {
   "cell_type": "code",
   "execution_count": 17,
   "id": "6a1c8e41-4891-4ba6-96c6-fec431f5e82b",
   "metadata": {},
   "outputs": [
    {
     "data": {
      "text/html": [
       "<div>\n",
       "<style scoped>\n",
       "    .dataframe tbody tr th:only-of-type {\n",
       "        vertical-align: middle;\n",
       "    }\n",
       "\n",
       "    .dataframe tbody tr th {\n",
       "        vertical-align: top;\n",
       "    }\n",
       "\n",
       "    .dataframe thead th {\n",
       "        text-align: right;\n",
       "    }\n",
       "</style>\n",
       "<table border=\"1\" class=\"dataframe\">\n",
       "  <thead>\n",
       "    <tr style=\"text-align: right;\">\n",
       "      <th></th>\n",
       "      <th>sepal length (cm)</th>\n",
       "      <th>sepal width (cm)</th>\n",
       "      <th>petal length (cm)</th>\n",
       "      <th>petal width (cm)</th>\n",
       "      <th>target</th>\n",
       "    </tr>\n",
       "  </thead>\n",
       "  <tbody>\n",
       "    <tr>\n",
       "      <th>0</th>\n",
       "      <td>5.1</td>\n",
       "      <td>3.5</td>\n",
       "      <td>1.4</td>\n",
       "      <td>0.2</td>\n",
       "      <td>0.0</td>\n",
       "    </tr>\n",
       "    <tr>\n",
       "      <th>1</th>\n",
       "      <td>4.9</td>\n",
       "      <td>3.0</td>\n",
       "      <td>1.4</td>\n",
       "      <td>0.2</td>\n",
       "      <td>0.0</td>\n",
       "    </tr>\n",
       "    <tr>\n",
       "      <th>2</th>\n",
       "      <td>4.7</td>\n",
       "      <td>3.2</td>\n",
       "      <td>1.3</td>\n",
       "      <td>0.2</td>\n",
       "      <td>0.0</td>\n",
       "    </tr>\n",
       "    <tr>\n",
       "      <th>3</th>\n",
       "      <td>4.6</td>\n",
       "      <td>3.1</td>\n",
       "      <td>1.5</td>\n",
       "      <td>0.2</td>\n",
       "      <td>0.0</td>\n",
       "    </tr>\n",
       "    <tr>\n",
       "      <th>4</th>\n",
       "      <td>5.0</td>\n",
       "      <td>3.6</td>\n",
       "      <td>1.4</td>\n",
       "      <td>0.2</td>\n",
       "      <td>0.0</td>\n",
       "    </tr>\n",
       "  </tbody>\n",
       "</table>\n",
       "</div>"
      ],
      "text/plain": [
       "   sepal length (cm)  sepal width (cm)  petal length (cm)  petal width (cm)  \\\n",
       "0                5.1               3.5                1.4               0.2   \n",
       "1                4.9               3.0                1.4               0.2   \n",
       "2                4.7               3.2                1.3               0.2   \n",
       "3                4.6               3.1                1.5               0.2   \n",
       "4                5.0               3.6                1.4               0.2   \n",
       "\n",
       "   target  \n",
       "0     0.0  \n",
       "1     0.0  \n",
       "2     0.0  \n",
       "3     0.0  \n",
       "4     0.0  "
      ]
     },
     "execution_count": 17,
     "metadata": {},
     "output_type": "execute_result"
    }
   ],
   "source": [
    "# Load the iris Dataset\n",
    "iris = datasets.load_iris()\n",
    "df = pd.DataFrame(data= np.c_[iris['data'], iris['target']], columns= iris['feature_names'] + ['target'])\n",
    "df.head()"
   ]
  },
  {
   "cell_type": "code",
   "execution_count": 19,
   "id": "98ad38c1-1cc6-4b4a-8b37-45a00a05a517",
   "metadata": {},
   "outputs": [
    {
     "data": {
      "text/plain": [
       "target\n",
       "0.0    50\n",
       "1.0    50\n",
       "2.0    50\n",
       "Name: count, dtype: int64"
      ]
     },
     "execution_count": 19,
     "metadata": {},
     "output_type": "execute_result"
    }
   ],
   "source": [
    "df['target'].value_counts()\n",
    "# We see there are 50 values of each type, here 0.0 is representing setosa, 1.0 is representing verginca and 2.0 is representing vergenica.\n",
    "# We did the mapping because ML cannot work with categorical data, hence they must be encoded to numeric values first to be used."
   ]
  },
  {
   "cell_type": "code",
   "execution_count": null,
   "id": "85768355-f2d7-4ac5-b6c3-08f5aad8def5",
   "metadata": {},
   "outputs": [],
   "source": [
    "# Visualizing how does the data looks like first, in order to get the idea which model we should use.\n",
    "# Here, we are only plotting two features\n",
    "sns.FacetGrid(df, hue=\"target\", height=6).map(plt.scatter, \"petal length (cm)\", \"petal width (cm)\").add_legend()\n",
    "\n",
    "# Just by looking at the below plot we can easily observe that we can classify blue i.e. type 0.0 -> Setosa with 100% accuracy, I can do this by simply drawing a line (Linearly Seperable) and then conclude that below that line there will be Setosa\n",
    "# For type 1.0 and 2.0 we can see there is a mix so I may not get 100% accurate classification between Vercicolor and Vergenica.\n",
    "# All the above observation is done just by puring analyzing the plot, that's why vizualization of dataset is very important step."
   ]
  },
  {
   "cell_type": "markdown",
   "id": "14e47eec-39a8-48f5-90bf-72df936cb8de",
   "metadata": {},
   "source": [
    "### Apply on Iris Dataset"
   ]
  },
  {
   "cell_type": "code",
   "execution_count": 37,
   "id": "f1a4bd85-bc96-4c71-bb8e-73790c7b02a1",
   "metadata": {},
   "outputs": [
    {
     "name": "stdout",
     "output_type": "stream",
     "text": [
      "DecisionTreeClassifier(criterion='entropy', max_depth=3)\n"
     ]
    }
   ],
   "source": [
    "# Fit a CART (Classification and Regression Model) to the data\n",
    "model = DecisionTreeClassifier()\n",
    "\n",
    "# Here we using two parameter criterion to specify the splitting should be done on basis of entropy not giniIndex(default) and maxDepth to tell that cut the tree after level 3 in order to avoid overfitting.\n",
    "# model = DecisionTreeClassifier(criterion=\"entropy\", max_depth=3)\n",
    "\n",
    "# fit function below actually trains the model with the data, here, just for the sake of simplicity, we are avoiding one crutial step of splitting the dataset for training and testing purpose.\n",
    "# for real dataset we split the data to train data and test data, this helps avoid biased outcomes and better accuracy.\n",
    "model.fit(iris.data, iris.target)\n",
    "print(model)"
   ]
  },
  {
   "cell_type": "code",
   "execution_count": 38,
   "id": "dcac782c-b2ff-47db-b2ba-77d0088acd0a",
   "metadata": {},
   "outputs": [
    {
     "data": {
      "text/plain": [
       "0.9733333333333334"
      ]
     },
     "execution_count": 38,
     "metadata": {},
     "output_type": "execute_result"
    }
   ],
   "source": [
    "# Here if I am getting 1 means the model(Decision Tree CLassifier) is giving me 100% accuracy for this dataset.\n",
    "model.score(iris.data, iris.target)"
   ]
  },
  {
   "cell_type": "markdown",
   "id": "3648e7dd-c24f-4e79-9d3a-67c35e512221",
   "metadata": {},
   "source": [
    "### Make predictions"
   ]
  },
  {
   "cell_type": "code",
   "execution_count": 39,
   "id": "899837e7-7ecd-49d9-a5c8-a6ccd984cc6b",
   "metadata": {},
   "outputs": [],
   "source": [
    "# expected is what we are expecting from our model's prediction.\n",
    "expected = iris.target\n",
    "# predicted is the value generated by the model after the training.\n",
    "predicted = model.predict(iris.data)"
   ]
  },
  {
   "cell_type": "markdown",
   "id": "7596b0f3-a5a2-4bc1-a86a-9aa06ecb457a",
   "metadata": {},
   "source": [
    "### Summerize the fit of the model"
   ]
  },
  {
   "cell_type": "code",
   "execution_count": 40,
   "id": "40c75134-e3f8-4596-bb9e-db26881006f0",
   "metadata": {},
   "outputs": [
    {
     "name": "stdout",
     "output_type": "stream",
     "text": [
      "              precision    recall  f1-score   support\n",
      "\n",
      "           0       1.00      1.00      1.00        50\n",
      "           1       0.98      0.94      0.96        50\n",
      "           2       0.94      0.98      0.96        50\n",
      "\n",
      "    accuracy                           0.97       150\n",
      "   macro avg       0.97      0.97      0.97       150\n",
      "weighted avg       0.97      0.97      0.97       150\n",
      "\n",
      "[[50  0  0]\n",
      " [ 0 47  3]\n",
      " [ 0  1 49]]\n"
     ]
    }
   ],
   "source": [
    "# We use precision, recall, f1-score and confusion matrix to know how much accurate our model is, it basically gives us thorough summary of accuracy level of our trained model on the dataset.\n",
    "print(metrics.classification_report(expected, predicted))\n",
    "print(metrics.confusion_matrix(expected, predicted))"
   ]
  },
  {
   "cell_type": "markdown",
   "id": "a9751eb6-54f8-4106-9e87-800e92228eaf",
   "metadata": {},
   "source": [
    "##### One disadvantage of Decision tree is that Decision tree has tendency to Overfit. So, we need to define the maxDepth of the tree otherwise tree will overfit and we will the pure node at leaf always when the tree will be formed fully, giving us 100% accuracy always. To avoid Overfitting we define maxDepth of the tree."
   ]
  }
 ],
 "metadata": {
  "kernelspec": {
   "display_name": "Python 3 (ipykernel)",
   "language": "python",
   "name": "python3"
  },
  "language_info": {
   "codemirror_mode": {
    "name": "ipython",
    "version": 3
   },
   "file_extension": ".py",
   "mimetype": "text/x-python",
   "name": "python",
   "nbconvert_exporter": "python",
   "pygments_lexer": "ipython3",
   "version": "3.12.0"
  }
 },
 "nbformat": 4,
 "nbformat_minor": 5
}
